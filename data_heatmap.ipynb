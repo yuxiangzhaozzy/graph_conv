{
 "cells": [
  {
   "cell_type": "code",
   "execution_count": 8,
   "metadata": {
    "scrolled": true
   },
   "outputs": [],
   "source": [
    "import numpy as np\n",
    "import pandas as pd\n",
    "from openpyxl import Workbook\n",
    "import webbrowser\n",
    "from folium.plugins import HeatMap\n",
    "import folium"
   ]
  },
  {
   "cell_type": "code",
   "execution_count": 9,
   "metadata": {},
   "outputs": [
    {
     "name": "stdout",
     "output_type": "stream",
     "text": [
      "45147\n"
     ]
    }
   ],
   "source": [
    "#posi=pd.read_excel(\"test.xlsx\")\n",
    "posi=pd.read_csv(\"link_gps.csv\")                                #用panda读取数据\n",
    "num= np.shape(posi)[0]                                          #求数据维度\n",
    "print(num)\n",
    "wb = Workbook()                                                 #建立一个文件保存新的数据\n",
    "ws = wb.create_sheet('New data')\n",
    "ws.append(('Road','Longitude', 'Latitude'))"
   ]
  },
  {
   "cell_type": "code",
   "execution_count": 10,
   "metadata": {},
   "outputs": [],
   "source": [
    "lat = tuple(np.array(posi[\"lat\"][0:num]))                        # 获取纬度值\n",
    "lon = tuple(np.array(posi[\"lng\"][0:num]))                        # 获取经度值\n",
    "id_road  = tuple(np.array(posi[\"ID\"][0:num]))                    # 获取路\n",
    "#print(type(lat))\n",
    "#print(lat[1:1000])"
   ]
  },
  {
   "cell_type": "code",
   "execution_count": 11,
   "metadata": {},
   "outputs": [
    {
     "name": "stdout",
     "output_type": "stream",
     "text": [
      "18802\n"
     ]
    }
   ],
   "source": [
    "l=1\n",
    "for i in range(num):\n",
    "        if lat[i]>39.86444 and lat[i]<39.976742 and lon[i]>116.313512 and lon[i]<116.452939:\n",
    "            ws.append((id_road[i],lon[i],lat[i]))\n",
    "            l=l+1\n",
    "print(l)\n",
    "wb.save(filename=\"newdata.xlsx\")          "
   ]
  },
  {
   "cell_type": "code",
   "execution_count": 14,
   "metadata": {},
   "outputs": [
    {
     "data": {
      "text/plain": [
       "True"
      ]
     },
     "execution_count": 14,
     "metadata": {},
     "output_type": "execute_result"
    }
   ],
   "source": [
    "data1 = [[lat[i],lon[i]] for i in range(num)]    #将数据制作成[lats,lons]的形式\n",
    "\n",
    "map_osm = folium.Map(location=[30,104],zoom_start=5)    #绘制Map，开始缩放程度是5倍\n",
    "HeatMap(data1).add_to(map_osm)  # 将热力图添加到前面建立的map里\n",
    "\n",
    "file_path = r\"Heatmap_restday1.html\"\n",
    "map_osm.save(file_path)     # 保存为html文件\n",
    "\n",
    "webbrowser.open(file_path)  # 默认浏览器打开\n"
   ]
  },
  {
   "cell_type": "code",
   "execution_count": null,
   "metadata": {},
   "outputs": [],
   "source": []
  }
 ],
 "metadata": {
  "kernelspec": {
   "display_name": "Python 3",
   "language": "python",
   "name": "python3"
  },
  "language_info": {
   "codemirror_mode": {
    "name": "ipython",
    "version": 3
   },
   "file_extension": ".py",
   "mimetype": "text/x-python",
   "name": "python",
   "nbconvert_exporter": "python",
   "pygments_lexer": "ipython3",
   "version": "3.7.4"
  }
 },
 "nbformat": 4,
 "nbformat_minor": 2
}
