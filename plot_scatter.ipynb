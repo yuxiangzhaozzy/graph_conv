{
 "cells": [
  {
   "cell_type": "code",
   "execution_count": 2,
   "metadata": {
    "scrolled": true
   },
   "outputs": [
    {
     "data": {
      "text/plain": [
       "True"
      ]
     },
     "execution_count": 2,
     "metadata": {},
     "output_type": "execute_result"
    }
   ],
   "source": [
    "import pandas as pd\n",
    "import numpy as np\n",
    "import os\n",
    "import folium\n",
    "from folium import plugins\n",
    "import webbrowser\n",
    "import geopandas as gp\n",
    "\n",
    "#数据导入：\n",
    "full = pd.read_excel(\"newdata.xlsx\")\n",
    "full = full.dropna()\n",
    "\n",
    "#创建地图对象：\n",
    "schools_map = folium.Map(location=[full['Latitude'].mean(), full['Longitude'].mean()], zoom_start=10)\n",
    "marker_cluster = plugins.MarkerCluster().add_to(schools_map) \n",
    "\n",
    "#标注数据点：\n",
    "for name,row in full.iterrows():\n",
    "     folium.Marker([row[\"Latitude\"], row[\"Longitude\"]], popup=\"{0}:{1}\".format(row[\"Latitude\"], row[\"Longitude\"])).add_to(marker_cluster)     \n",
    "#逐行读取经纬度，数值，并且打点\n",
    "#folium.RegularPolygonMarker([row[\"lat\"], row[\"lon\"]], popup=\"{0}:{1}\".format(row[\"cities\"], row[\"GDP\"]),number_of_sides=10,radius=5).add_to(marker_cluster)\n",
    "\n",
    "schools_map.save('schools_map.html') #保存到本地\n",
    "webbrowser.open('schools_map.html')  #在浏览器中打开"
   ]
  },
  {
   "cell_type": "code",
   "execution_count": null,
   "metadata": {},
   "outputs": [],
   "source": []
  }
 ],
 "metadata": {
  "kernelspec": {
   "display_name": "Python 3",
   "language": "python",
   "name": "python3"
  },
  "language_info": {
   "codemirror_mode": {
    "name": "ipython",
    "version": 3
   },
   "file_extension": ".py",
   "mimetype": "text/x-python",
   "name": "python",
   "nbconvert_exporter": "python",
   "pygments_lexer": "ipython3",
   "version": "3.7.4"
  }
 },
 "nbformat": 4,
 "nbformat_minor": 2
}
